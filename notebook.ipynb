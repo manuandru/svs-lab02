{
 "cells": [
  {
   "cell_type": "markdown",
   "metadata": {},
   "source": [
    "# Carla 01 - Intro\n",
    "\n",
    "Carla Python API is a Python library that allows you to control a Carla simulation environment.\n",
    "\n",
    "You can find the official documentation [here](https://carla.readthedocs.io/en/latest/python_api/)."
   ]
  },
  {
   "cell_type": "code",
   "execution_count": 14,
   "metadata": {},
   "outputs": [],
   "source": [
    "import carla\n",
    "import time"
   ]
  },
  {
   "cell_type": "markdown",
   "metadata": {},
   "source": [
    "## Carla client connetion\n",
    "\n",
    "A connetion to the server will be created. From now, we can use the client to interact with the server.\n",
    "\n",
    "> **Remember**: *Client* object is a proxy to the server. It is used to send commands to the server and receive responses."
   ]
  },
  {
   "cell_type": "code",
   "execution_count": 3,
   "metadata": {},
   "outputs": [],
   "source": [
    "client = carla.Client(\"isi-simcar.campusfc.dir.unibo.it\", 2000)"
   ]
  },
  {
   "cell_type": "markdown",
   "metadata": {},
   "source": [
    "As a remote proxy, connection to the server is not immediate. It may take a few seconds to establish the connection."
   ]
  },
  {
   "cell_type": "code",
   "execution_count": null,
   "metadata": {},
   "outputs": [],
   "source": [
    "client.set_timeout(0.5)\n",
    "client.load_world(\"Town01\") # a time consuming operation"
   ]
  },
  {
   "cell_type": "code",
   "execution_count": null,
   "metadata": {},
   "outputs": [],
   "source": [
    "client.set_timeout(15)\n",
    "client.load_world(\"Town02\")"
   ]
  },
  {
   "cell_type": "code",
   "execution_count": null,
   "metadata": {},
   "outputs": [],
   "source": [
    "print(f\"Client version: {client.get_client_version()}\")\n",
    "print(f\"Server version: {client.get_server_version()}\")"
   ]
  },
  {
   "cell_type": "markdown",
   "metadata": {},
   "source": [
    "## Configure the simulation\n",
    "\n",
    "Client is also used to configure the simulation. We can set the weather, the time of the day, the map, etc.\n",
    "\n",
    "### Change maps\n",
    "\n",
    "More maps can be downloaded from [GitHub Releases](https://github.com/carla-simulator/carla/releases)."
   ]
  },
  {
   "cell_type": "code",
   "execution_count": null,
   "metadata": {},
   "outputs": [],
   "source": [
    "client.get_available_maps()"
   ]
  },
  {
   "cell_type": "markdown",
   "metadata": {},
   "source": [
    "`Town10HD_Opt` is a streamlined version of `Town10HD` designed to balance performance with environmental detail."
   ]
  },
  {
   "cell_type": "code",
   "execution_count": null,
   "metadata": {},
   "outputs": [],
   "source": [
    "client.load_world(\"Town10HD_Opt\")"
   ]
  },
  {
   "cell_type": "markdown",
   "metadata": {},
   "source": [
    "### Set the weather"
   ]
  },
  {
   "cell_type": "code",
   "execution_count": 36,
   "metadata": {},
   "outputs": [],
   "source": [
    "world = client.get_world()\n",
    "world.set_weather(carla.WeatherParameters.WetNight)"
   ]
  },
  {
   "cell_type": "code",
   "execution_count": null,
   "metadata": {},
   "outputs": [],
   "source": [
    "weathers = [\n",
    "    carla.WeatherParameters.CloudyNoon,\n",
    "    carla.WeatherParameters.MidRainSunset,\n",
    "    carla.WeatherParameters.HardRainNoon,\n",
    "    carla.WeatherParameters.ClearSunset,\n",
    "    carla.WeatherParameters.SoftRainNight,\n",
    "    carla.WeatherParameters.Default,\n",
    "]\n",
    "\n",
    "for weather in weathers:\n",
    "    world.set_weather(weather)\n",
    "    print(f\"Weather set to {weather}\")\n",
    "    time.sleep(5)"
   ]
  },
  {
   "cell_type": "markdown",
   "metadata": {},
   "source": [
    "### Sync vs Async mode\n",
    "\n",
    "In **synchronous** mode, the server waits for the client to send a tick command before moving to the next frame. This is useful when you want to control the simulation frame by frame.\n",
    "\n",
    "In **asynchronous** mode, the server runs at its own pace. This is useful when you want to run the simulation as fast as possible.\n",
    "\n",
    "![Sync vs Async](./img/sync-async.png)"
   ]
  },
  {
   "cell_type": "code",
   "execution_count": null,
   "metadata": {},
   "outputs": [],
   "source": [
    "world = client.get_world()\n",
    "settings = world.get_settings()\n",
    "settings.synchronous_mode = True\n",
    "world.apply_settings(settings)"
   ]
  },
  {
   "cell_type": "code",
   "execution_count": null,
   "metadata": {},
   "outputs": [],
   "source": [
    "count = 0\n",
    "while True:\n",
    "    world.tick()\n",
    "    time.sleep(0.1)\n",
    "    count += 1\n",
    "    print(f\"Ticked the server {count}\", end=\"\\r\")"
   ]
  },
  {
   "cell_type": "code",
   "execution_count": null,
   "metadata": {},
   "outputs": [],
   "source": [
    "settings.synchronous_mode = False\n",
    "world.apply_settings(settings)\n",
    "client.reload_world()"
   ]
  },
  {
   "cell_type": "markdown",
   "metadata": {},
   "source": [
    "## Exercise: some config\n",
    "\n",
    "In this exercise, we will connect to the server, configure the simulation, and run it for a few seconds.\n",
    "\n",
    "The main goal is to get familiar with the Carla Python API.\n",
    "\n",
    "### Proposed exercise\n",
    "\n",
    "Try to implement sun position control similar to the reality.\n",
    "\n",
    "![Sun position](./img/sun-position.png)"
   ]
  },
  {
   "cell_type": "markdown",
   "metadata": {},
   "source": [
    "## Add actors to the simulation\n",
    "\n",
    "### Coordinate system\n",
    "\n",
    "Coordinates uses 3 axes: `x`, `y`, `z`, in meters.\n",
    "\n",
    "There is also a rotation system with 3 angles: `pitch`, `yaw`, `roll`, in degrees."
   ]
  },
  {
   "cell_type": "code",
   "execution_count": 27,
   "metadata": {},
   "outputs": [],
   "source": [
    "spectator = world.get_spectator()\n",
    "spectator.set_transform(\n",
    "    carla.Transform(\n",
    "        carla.Location(x=0, y=10, z=0),\n",
    "        carla.Rotation(yaw=0, pitch=0, roll=0)\n",
    "    )\n",
    ")"
   ]
  },
  {
   "cell_type": "markdown",
   "metadata": {},
   "source": [
    "### Spawnpoints\n",
    "\n",
    "Spawnpoints are used to place actors in the simulation, like vehicles, pedestrians, sensors, etc."
   ]
  },
  {
   "cell_type": "code",
   "execution_count": null,
   "metadata": {},
   "outputs": [],
   "source": [
    "world = client.get_world()\n",
    "spawn_points = world.get_map().get_spawn_points()\n",
    "spectator = world.get_spectator()\n",
    "\n",
    "for spawn_point in spawn_points:\n",
    "    spectator.set_transform(spawn_point)\n",
    "\n",
    "    print(spawn_point.location, end=\"\\r\")\n",
    "    time.sleep(5)"
   ]
  },
  {
   "cell_type": "markdown",
   "metadata": {},
   "source": [
    "### Actors"
   ]
  },
  {
   "cell_type": "code",
   "execution_count": null,
   "metadata": {},
   "outputs": [],
   "source": [
    "blue_prints = world.get_blueprint_library().filter('*')\n",
    "\n",
    "for blue_print in blue_prints:\n",
    "    print(f\"Id: {blue_print.id}, Tags: {blue_print.tags}\")"
   ]
  },
  {
   "cell_type": "markdown",
   "metadata": {},
   "source": [
    "### Spawn a vehicles"
   ]
  },
  {
   "cell_type": "code",
   "execution_count": 35,
   "metadata": {},
   "outputs": [],
   "source": [
    "vehicle = world.try_spawn_actor(blue_prints[0], spawn_points[0])"
   ]
  },
  {
   "cell_type": "code",
   "execution_count": 37,
   "metadata": {},
   "outputs": [],
   "source": [
    "vehicle.set_autopilot(True)"
   ]
  },
  {
   "cell_type": "code",
   "execution_count": null,
   "metadata": {},
   "outputs": [],
   "source": [
    "vehicle.destroy()"
   ]
  }
 ],
 "metadata": {
  "kernelspec": {
   "display_name": "carla-env-lab02",
   "language": "python",
   "name": "python3"
  },
  "language_info": {
   "codemirror_mode": {
    "name": "ipython",
    "version": 3
   },
   "file_extension": ".py",
   "mimetype": "text/x-python",
   "name": "python",
   "nbconvert_exporter": "python",
   "pygments_lexer": "ipython3",
   "version": "3.7.12"
  }
 },
 "nbformat": 4,
 "nbformat_minor": 2
}
